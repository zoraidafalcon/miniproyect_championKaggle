{
 "cells": [
  {
   "cell_type": "code",
   "execution_count": 1,
   "id": "a0aa11c8-0905-4712-b462-6887f7d7fb93",
   "metadata": {},
   "outputs": [],
   "source": [
    "import pandas as pd\n",
    "import numpy as np\n",
    "import matplotlib.pyplot as plt\n",
    "import seaborn as sns\n",
    "from sklearn.model_selection import train_test_split, GridSearchCV\n",
    "from sklearn.ensemble import RandomForestRegressor\n",
    "from sklearn.metrics import r2_score\n",
    "\n",
    "# Cargar los datos\n",
    "train_data = pd.read_csv('train.csv')  # Cambia la ruta si es necesario\n",
    "test_data = pd.read_csv('test.csv')  # Cambia la ruta si es necesario"
   ]
  },
  {
   "cell_type": "code",
   "execution_count": 2,
   "id": "b8f13336-717e-4da8-bd04-a5c715262ab4",
   "metadata": {},
   "outputs": [],
   "source": [
    "# Manejo inicial de valores nulos (solo en columnas numéricas)\n",
    "train_data.fillna(train_data.select_dtypes(include=[np.number]).mean(), inplace=True)\n",
    "test_data.fillna(test_data.select_dtypes(include=[np.number]).mean(), inplace=True)\n",
    "\n",
    "# Corregir nombres de columnas eliminando espacios adicionales\n",
    "train_data.columns = train_data.columns.str.strip()\n",
    "test_data.columns = test_data.columns.str.strip()\n",
    "\n",
    "# Eliminar columnas irrelevantes\n",
    "train_data.drop(columns=['Unnamed: 0', 'Country'], inplace=True)\n",
    "test_data.drop(columns=['Unnamed: 0', 'Country'], inplace=True)\n",
    "\n",
    "# Codificar variables categóricas\n",
    "train_data = pd.get_dummies(train_data, columns=['Status'], drop_first=True)\n",
    "test_data = pd.get_dummies(test_data, columns=['Status'], drop_first=True)"
   ]
  },
  {
   "cell_type": "code",
   "execution_count": 3,
   "id": "9d298f0d-d7b0-43b6-b42c-413ba3e75ad0",
   "metadata": {},
   "outputs": [],
   "source": [
    "# Crear nuevas características ajustadas\n",
    "train_data['Log_GDP'] = np.log1p(train_data['GDP'])\n",
    "test_data['Log_GDP'] = np.log1p(test_data['GDP'])\n",
    "\n",
    "train_data['Infant_under5_ratio'] = train_data['infant deaths'] / (train_data['under-five deaths'] + 1)\n",
    "test_data['Infant_under5_ratio'] = test_data['infant deaths'] / (test_data['under-five deaths'] + 1)\n",
    "\n",
    "train_data['Expenditure_per_GDP'] = train_data['percentage expenditure'] / (train_data['GDP'] + 1)\n",
    "test_data['Expenditure_per_GDP'] = test_data['percentage expenditure'] / (test_data['GDP'] + 1)\n",
    "\n",
    "train_data['Socioeconomic_index'] = train_data['Income composition of resources'] * train_data['Schooling']\n",
    "test_data['Socioeconomic_index'] = test_data['Income composition of resources'] * test_data['Schooling']"
   ]
  },
  {
   "cell_type": "code",
   "execution_count": 4,
   "id": "f6f85c91-f708-4644-8bab-88698e151f92",
   "metadata": {},
   "outputs": [
    {
     "name": "stdout",
     "output_type": "stream",
     "text": [
      "Variables más correlacionadas: ['Socioeconomic_index', 'Schooling', 'Adult Mortality', 'Income composition of resources', 'HIV/AIDS']\n"
     ]
    }
   ],
   "source": [
    "# Refinar eliminación de outliers utilizando el rango intercuartílico (IQR)\n",
    "def remove_outliers(df, column):\n",
    "    Q1 = df[column].quantile(0.25)\n",
    "    Q3 = df[column].quantile(0.75)\n",
    "    IQR = Q3 - Q1\n",
    "    lower_bound = Q1 - 1.5 * IQR\n",
    "    upper_bound = Q3 + 1.5 * IQR\n",
    "    return df[(df[column] >= lower_bound) & (df[column] <= upper_bound)]\n",
    "\n",
    "# Variables más correlacionadas con \"Life expectancy\" para eliminar outliers\n",
    "correlation_target = train_data.corr()['Life expectancy'].abs().sort_values(ascending=False)\n",
    "top_features = correlation_target[1:6].index.tolist()  # Las 5 más correlacionadas (excluyendo el target)\n",
    "print(\"Variables más correlacionadas:\", top_features)\n",
    "\n",
    "for feature in top_features:\n",
    "    train_data = remove_outliers(train_data, feature)"
   ]
  },
  {
   "cell_type": "code",
   "execution_count": 5,
   "id": "a0286b2e-4013-457a-83fe-c55f483c41d2",
   "metadata": {},
   "outputs": [],
   "source": [
    "# Separar características y objetivo\n",
    "X = train_data.drop(columns=['Life expectancy'])\n",
    "y = train_data['Life expectancy']\n",
    "\n",
    "# Dividir en conjunto de entrenamiento y validación\n",
    "X_train, X_val, y_train, y_val = train_test_split(X, y, test_size=0.2, random_state=42)"
   ]
  },
  {
   "cell_type": "code",
   "execution_count": 6,
   "id": "b362a08d-0ae2-475a-820a-8d0512e624c3",
   "metadata": {},
   "outputs": [
    {
     "name": "stdout",
     "output_type": "stream",
     "text": [
      "Fitting 3 folds for each of 192 candidates, totalling 576 fits\n",
      "Mejores hiperparámetros: {'max_depth': 20, 'min_samples_leaf': 1, 'min_samples_split': 2, 'n_estimators': 100}\n"
     ]
    }
   ],
   "source": [
    "# Modelo Random Forest con ajuste de hiperparámetros refinados\n",
    "rf = RandomForestRegressor(random_state=42)\n",
    "param_grid = {\n",
    "    'n_estimators': [100, 150, 200, 250],\n",
    "    'max_depth': [15, 20, 25, 30],\n",
    "    'min_samples_split': [2, 4, 6, 10],\n",
    "    'min_samples_leaf': [1, 2, 3]\n",
    "}\n",
    "\n",
    "grid_search = GridSearchCV(estimator=rf, param_grid=param_grid, cv=3, n_jobs=-1, scoring='r2', verbose=2)\n",
    "grid_search.fit(X_train, y_train)\n",
    "\n",
    "# Mejor modelo\n",
    "best_rf = grid_search.best_estimator_\n",
    "print(\"Mejores hiperparámetros:\", grid_search.best_params_)"
   ]
  },
  {
   "cell_type": "code",
   "execution_count": 7,
   "id": "c6990b10-95b2-4f12-b738-fd67deb6b22f",
   "metadata": {},
   "outputs": [
    {
     "name": "stdout",
     "output_type": "stream",
     "text": [
      "R² en el conjunto de validación: 0.9114\n"
     ]
    }
   ],
   "source": [
    "# Predicciones y evaluación\n",
    "y_pred = best_rf.predict(X_val)\n",
    "r2 = r2_score(y_val, y_pred)\n",
    "print(f'R² en el conjunto de validación: {r2:.4f}')\n",
    "\n",
    "# Predicciones en el conjunto de prueba\n",
    "test_predictions = best_rf.predict(test_data)"
   ]
  },
  {
   "cell_type": "code",
   "execution_count": 8,
   "id": "986e1288-5a35-44c9-8759-abf5ec771dc9",
   "metadata": {},
   "outputs": [
    {
     "name": "stdout",
     "output_type": "stream",
     "text": [
      "Archivo de predicciones generado: submission_rf_refined.csv\n"
     ]
    }
   ],
   "source": [
    "# Crear archivo de salida para Kaggle\n",
    "submission = pd.DataFrame({\n",
    "    'ID': range(1, len(test_predictions) + 1),  # Crear IDs secuenciales desde 1\n",
    "    'Life expectancy': test_predictions\n",
    "})\n",
    "submission.to_csv('submission_rf_refined.csv', index=False)\n",
    "print(\"Archivo de predicciones generado: submission_rf_refined.csv\")"
   ]
  }
 ],
 "metadata": {
  "kernelspec": {
   "display_name": "Python 3 (ipykernel)",
   "language": "python",
   "name": "python3"
  },
  "language_info": {
   "codemirror_mode": {
    "name": "ipython",
    "version": 3
   },
   "file_extension": ".py",
   "mimetype": "text/x-python",
   "name": "python",
   "nbconvert_exporter": "python",
   "pygments_lexer": "ipython3",
   "version": "3.12.7"
  }
 },
 "nbformat": 4,
 "nbformat_minor": 5
}
