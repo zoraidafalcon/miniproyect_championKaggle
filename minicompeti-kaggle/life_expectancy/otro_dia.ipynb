{
 "cells": [
  {
   "cell_type": "code",
   "execution_count": 20,
   "id": "d234eb78-90bf-4ce8-94d9-7f5cb88f0090",
   "metadata": {},
   "outputs": [
    {
     "name": "stdout",
     "output_type": "stream",
     "text": [
      "R2 Score en validación: 0.963277896859561\n",
      "Archivo de predicciones guardado en: otro.csv\n"
     ]
    }
   ],
   "source": [
    "import pandas as pd\n",
    "from sklearn.ensemble import RandomForestRegressor\n",
    "from sklearn.model_selection import train_test_split\n",
    "from sklearn.metrics import r2_score\n",
    "from sklearn.impute import SimpleImputer\n",
    "\n",
    "# Cargar los datos\n",
    "train_data = pd.read_csv('train.csv')\n",
    "test_data = pd.read_csv('test.csv')\n",
    "\n",
    "# Preparar los datos eliminando columnas irrelevantes\n",
    "X = train_data.drop(columns=['Life expectancy ', 'Unnamed: 0', 'Country', 'Year', 'Status'])\n",
    "y = train_data['Life expectancy ']\n",
    "X_test = test_data.drop(columns=['Unnamed: 0', 'Country', 'Year', 'Status'])\n",
    "\n",
    "# Manejar valores faltantes con imputación\n",
    "imputer = SimpleImputer(strategy='mean')\n",
    "X = imputer.fit_transform(X)\n",
    "X_test = imputer.transform(X_test)\n",
    "\n",
    "# Dividir los datos para validación\n",
    "X_train, X_val, y_train, y_val = train_test_split(X, y, test_size=0.2, random_state=42)\n",
    "\n",
    "# Entrenar el modelo Random Forest\n",
    "model = RandomForestRegressor(n_estimators=100, random_state=42)\n",
    "model.fit(X_train, y_train)\n",
    "\n",
    "# Validar el modelo\n",
    "y_val_pred = model.predict(X_val)\n",
    "validation_r2 = r2_score(y_val, y_val_pred)\n",
    "\n",
    "# Hacer predicciones en los datos de prueba\n",
    "test_predictions = model.predict(X_test)\n",
    "\n",
    "# Preparar el archivo de envío\n",
    "submission = pd.DataFrame({\n",
    "    'ID': range(1, len(test_predictions) + 1),\n",
    "    'Life expectancy': test_predictions\n",
    "})\n",
    "\n",
    "# Guardar el archivo de envío\n",
    "submission_file_path = 'otro.csv'\n",
    "submission.to_csv(submission_file_path, index=False)\n",
    "\n",
    "print(\"R2 Score en validación:\", validation_r2)\n",
    "print(\"Archivo de predicciones guardado en:\", submission_file_path)"
   ]
  },
  {
   "cell_type": "code",
   "execution_count": null,
   "id": "0ccbffbc-3ff3-41d2-b747-f1f689148017",
   "metadata": {},
   "outputs": [],
   "source": []
  },
  {
   "cell_type": "code",
   "execution_count": null,
   "id": "fd02cf71-c72f-4195-a133-fd1989c72c1d",
   "metadata": {},
   "outputs": [],
   "source": []
  },
  {
   "cell_type": "code",
   "execution_count": null,
   "id": "cd8e3532-886f-42ed-a8cc-0bf6fe26f33a",
   "metadata": {},
   "outputs": [],
   "source": []
  },
  {
   "cell_type": "code",
   "execution_count": null,
   "id": "cbfdaaec-de81-44fe-9bf0-bfa8f819b1bf",
   "metadata": {},
   "outputs": [],
   "source": []
  },
  {
   "cell_type": "code",
   "execution_count": null,
   "id": "eddebb41-0157-498c-8154-287c2b3801ff",
   "metadata": {},
   "outputs": [],
   "source": []
  }
 ],
 "metadata": {
  "kernelspec": {
   "display_name": "Python 3 (ipykernel)",
   "language": "python",
   "name": "python3"
  },
  "language_info": {
   "codemirror_mode": {
    "name": "ipython",
    "version": 3
   },
   "file_extension": ".py",
   "mimetype": "text/x-python",
   "name": "python",
   "nbconvert_exporter": "python",
   "pygments_lexer": "ipython3",
   "version": "3.12.7"
  }
 },
 "nbformat": 4,
 "nbformat_minor": 5
}
