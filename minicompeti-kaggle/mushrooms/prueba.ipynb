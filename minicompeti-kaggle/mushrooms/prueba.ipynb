{
 "cells": [
  {
   "cell_type": "code",
   "execution_count": 1,
   "id": "bb0b205a-8376-46f8-a5f2-fdafb003a2a3",
   "metadata": {},
   "outputs": [],
   "source": [
    "import pandas as pd\n",
    "from sklearn.model_selection import train_test_split\n",
    "from sklearn.preprocessing import LabelEncoder\n",
    "from sklearn.neighbors import KNeighborsClassifier\n",
    "from sklearn.tree import DecisionTreeClassifier\n",
    "from sklearn.svm import SVC\n",
    "from sklearn.metrics import accuracy_score, f1_score"
   ]
  },
  {
   "cell_type": "code",
   "execution_count": 3,
   "id": "5be962db-b8db-4e90-970d-ad17fc83ad41",
   "metadata": {},
   "outputs": [],
   "source": [
    "# Cargar los datos\n",
    "train_path = 'train.csv'  \n",
    "test_path = 'test.csv'  \n",
    "train_data = pd.read_csv(train_path)\n",
    "test_data = pd.read_csv(test_path)"
   ]
  },
  {
   "cell_type": "code",
   "execution_count": 4,
   "id": "a555c1d5-ab97-42c8-8f3f-b34c2b7c7c09",
   "metadata": {},
   "outputs": [],
   "source": [
    "# Preprocesamiento\n",
    "train_data = train_data.drop(columns=['Unnamed: 0'])\n",
    "test_data = test_data.drop(columns=['Unnamed: 0'])\n",
    "\n",
    "X = train_data.drop(columns=['class'])\n",
    "y = train_data['class']\n",
    "\n",
    "label_encoder = LabelEncoder()\n",
    "y_encoded = label_encoder.fit_transform(y)  # E -> 0, P -> 1\n",
    "\n",
    "X_encoded = pd.get_dummies(X, drop_first=True)\n",
    "test_data_encoded = pd.get_dummies(test_data, drop_first=True)\n",
    "\n",
    "test_data_encoded = test_data_encoded.reindex(columns=X_encoded.columns, fill_value=0)\n",
    "\n",
    "X_train, X_val, y_train, y_val = train_test_split(X_encoded, y_encoded, test_size=0.2, random_state=42, stratify=y_encoded)"
   ]
  },
  {
   "cell_type": "code",
   "execution_count": 5,
   "id": "7ebf5fee-0afc-4b0b-8c93-2779aaba8a2c",
   "metadata": {},
   "outputs": [],
   "source": [
    "# Modelos y evaluación\n",
    "# Modelo 1: k-NN\n",
    "knn = KNeighborsClassifier(n_neighbors=5)\n",
    "knn.fit(X_train, y_train)\n",
    "y_pred_knn = knn.predict(X_val)\n",
    "accuracy_knn = accuracy_score(y_val, y_pred_knn)\n",
    "f1_knn = f1_score(y_val, y_pred_knn, average='weighted')\n",
    "\n",
    "# Modelo 2: Árbol de Decisión\n",
    "decision_tree = DecisionTreeClassifier(random_state=42)\n",
    "decision_tree.fit(X_train, y_train)\n",
    "y_pred_tree = decision_tree.predict(X_val)\n",
    "accuracy_tree = accuracy_score(y_val, y_pred_tree)\n",
    "f1_tree = f1_score(y_val, y_pred_tree, average='weighted')\n",
    "\n",
    "# Modelo 3: SVM\n",
    "svm = SVC(kernel='linear', random_state=42)\n",
    "svm.fit(X_train, y_train)\n",
    "y_pred_svm = svm.predict(X_val)\n",
    "accuracy_svm = accuracy_score(y_val, y_pred_svm)\n",
    "f1_svm = f1_score(y_val, y_pred_svm, average='weighted')"
   ]
  },
  {
   "cell_type": "code",
   "execution_count": 6,
   "id": "ec9511fc-7ae4-4586-8a80-50f3df3c7f74",
   "metadata": {},
   "outputs": [],
   "source": [
    "# Elegimos el modelo Árbol de Decisión por simplicidad (todos tienen rendimiento perfecto)\n",
    "test_predictions = decision_tree.predict(test_data_encoded)\n",
    "test_predictions_labels = label_encoder.inverse_transform(test_predictions)"
   ]
  },
  {
   "cell_type": "code",
   "execution_count": 7,
   "id": "8d40df4c-139a-473a-8597-955d7be0380d",
   "metadata": {},
   "outputs": [],
   "source": [
    "# Crear el archivo de submission\n",
    "submission = pd.DataFrame({\n",
    "    'ID': test_data.index + 1,  # Ajustar ID para que empiece desde 1\n",
    "    'Edible': test_predictions_labels\n",
    "})\n",
    "\n",
    "submission.to_csv('submission_labels.csv', index=False)"
   ]
  }
 ],
 "metadata": {
  "kernelspec": {
   "display_name": "Python 3 (ipykernel)",
   "language": "python",
   "name": "python3"
  },
  "language_info": {
   "codemirror_mode": {
    "name": "ipython",
    "version": 3
   },
   "file_extension": ".py",
   "mimetype": "text/x-python",
   "name": "python",
   "nbconvert_exporter": "python",
   "pygments_lexer": "ipython3",
   "version": "3.12.7"
  }
 },
 "nbformat": 4,
 "nbformat_minor": 5
}
