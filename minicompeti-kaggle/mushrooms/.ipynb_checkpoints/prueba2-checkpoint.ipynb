{
 "cells": [
  {
   "cell_type": "markdown",
   "id": "8a284a1f-8ca6-4a2f-8a71-620dcea7870b",
   "metadata": {
    "jp-MarkdownHeadingCollapsed": true
   },
   "source": [
    "# Import libreries"
   ]
  },
  {
   "cell_type": "code",
   "execution_count": 17,
   "id": "fd8a4d07-7890-4106-9ebc-707938dc4aed",
   "metadata": {},
   "outputs": [],
   "source": [
    "import pandas as pd\n",
    "import matplotlib.pyplot as plt\n",
    "from sklearn.model_selection import train_test_split\n",
    "from sklearn.preprocessing import LabelEncoder\n",
    "from sklearn.neighbors import KNeighborsClassifier\n",
    "from sklearn.tree import DecisionTreeClassifier\n",
    "from sklearn.svm import SVC\n",
    "from sklearn.metrics import accuracy_score, f1_score\n",
    "import seaborn as sns"
   ]
  },
  {
   "cell_type": "markdown",
   "id": "a95bc7f1-8210-49b0-ab39-e307b45fd22f",
   "metadata": {},
   "source": [
    "# Loading and understanding data"
   ]
  },
  {
   "cell_type": "code",
   "execution_count": 14,
   "id": "47fcf282-9ca6-40f2-9a30-6a8840618a74",
   "metadata": {},
   "outputs": [
    {
     "name": "stdout",
     "output_type": "stream",
     "text": [
      "\n",
      "Cargando los datos...\n",
      "Datos cargados correctamente.\n",
      "<class 'pandas.core.frame.DataFrame'>\n",
      "RangeIndex: 6499 entries, 0 to 6498\n",
      "Data columns (total 24 columns):\n",
      " #   Column                    Non-Null Count  Dtype \n",
      "---  ------                    --------------  ----- \n",
      " 0   Unnamed: 0                6499 non-null   int64 \n",
      " 1   cap-shape                 6499 non-null   object\n",
      " 2   cap-surface               6499 non-null   object\n",
      " 3   cap-color                 6499 non-null   object\n",
      " 4   bruises                   6499 non-null   object\n",
      " 5   odor                      6499 non-null   object\n",
      " 6   gill-attachment           6499 non-null   object\n",
      " 7   gill-spacing              6499 non-null   object\n",
      " 8   gill-size                 6499 non-null   object\n",
      " 9   gill-color                6499 non-null   object\n",
      " 10  stalk-shape               6499 non-null   object\n",
      " 11  stalk-root                6499 non-null   object\n",
      " 12  stalk-surface-above-ring  6499 non-null   object\n",
      " 13  stalk-surface-below-ring  6499 non-null   object\n",
      " 14  stalk-color-above-ring    6499 non-null   object\n",
      " 15  stalk-color-below-ring    6499 non-null   object\n",
      " 16  veil-type                 6499 non-null   object\n",
      " 17  veil-color                6499 non-null   object\n",
      " 18  ring-number               6499 non-null   object\n",
      " 19  ring-type                 6499 non-null   object\n",
      " 20  spore-print-color         6499 non-null   object\n",
      " 21  population                6499 non-null   object\n",
      " 22  habitat                   6499 non-null   object\n",
      " 23  class                     6499 non-null   object\n",
      "dtypes: int64(1), object(23)\n",
      "memory usage: 1.2+ MB\n",
      "\n",
      "Estructura del conjunto de entrenamiento:\n",
      "None\n",
      "<class 'pandas.core.frame.DataFrame'>\n",
      "RangeIndex: 6499 entries, 0 to 6498\n",
      "Data columns (total 24 columns):\n",
      " #   Column                    Non-Null Count  Dtype \n",
      "---  ------                    --------------  ----- \n",
      " 0   Unnamed: 0                6499 non-null   int64 \n",
      " 1   cap-shape                 6499 non-null   object\n",
      " 2   cap-surface               6499 non-null   object\n",
      " 3   cap-color                 6499 non-null   object\n",
      " 4   bruises                   6499 non-null   object\n",
      " 5   odor                      6499 non-null   object\n",
      " 6   gill-attachment           6499 non-null   object\n",
      " 7   gill-spacing              6499 non-null   object\n",
      " 8   gill-size                 6499 non-null   object\n",
      " 9   gill-color                6499 non-null   object\n",
      " 10  stalk-shape               6499 non-null   object\n",
      " 11  stalk-root                6499 non-null   object\n",
      " 12  stalk-surface-above-ring  6499 non-null   object\n",
      " 13  stalk-surface-below-ring  6499 non-null   object\n",
      " 14  stalk-color-above-ring    6499 non-null   object\n",
      " 15  stalk-color-below-ring    6499 non-null   object\n",
      " 16  veil-type                 6499 non-null   object\n",
      " 17  veil-color                6499 non-null   object\n",
      " 18  ring-number               6499 non-null   object\n",
      " 19  ring-type                 6499 non-null   object\n",
      " 20  spore-print-color         6499 non-null   object\n",
      " 21  population                6499 non-null   object\n",
      " 22  habitat                   6499 non-null   object\n",
      " 23  class                     6499 non-null   object\n",
      "dtypes: int64(1), object(23)\n",
      "memory usage: 1.2+ MB\n",
      "\n",
      "Estructura del conjunto de prueba:\n",
      "None\n"
     ]
    }
   ],
   "source": [
    "# Cargar los datos\n",
    "print(\"\\nCargando los datos...\")\n",
    "train_data = pd.read_csv('train.csv')\n",
    "test_data = pd.read_csv('train.csv')\n",
    "print(\"Datos cargados correctamente.\")\n",
    "print(f\"\\nEstructura del conjunto de entrenamiento:\\n{train_data.info()}\")\n",
    "print(f\"\\nEstructura del conjunto de prueba:\\n{test_data.info()}\")"
   ]
  },
  {
   "cell_type": "code",
   "execution_count": 25,
   "id": "c2784a29-f726-4945-8930-4848ca9c7af3",
   "metadata": {},
   "outputs": [
    {
     "data": {
      "text/html": [
       "<div>\n",
       "<style scoped>\n",
       "    .dataframe tbody tr th:only-of-type {\n",
       "        vertical-align: middle;\n",
       "    }\n",
       "\n",
       "    .dataframe tbody tr th {\n",
       "        vertical-align: top;\n",
       "    }\n",
       "\n",
       "    .dataframe thead th {\n",
       "        text-align: right;\n",
       "    }\n",
       "</style>\n",
       "<table border=\"1\" class=\"dataframe\">\n",
       "  <thead>\n",
       "    <tr style=\"text-align: right;\">\n",
       "      <th></th>\n",
       "      <th>cap-shape</th>\n",
       "      <th>cap-surface</th>\n",
       "      <th>cap-color</th>\n",
       "      <th>bruises</th>\n",
       "      <th>odor</th>\n",
       "      <th>gill-attachment</th>\n",
       "      <th>gill-spacing</th>\n",
       "      <th>gill-size</th>\n",
       "      <th>gill-color</th>\n",
       "      <th>stalk-shape</th>\n",
       "      <th>...</th>\n",
       "      <th>stalk-color-above-ring</th>\n",
       "      <th>stalk-color-below-ring</th>\n",
       "      <th>veil-type</th>\n",
       "      <th>veil-color</th>\n",
       "      <th>ring-number</th>\n",
       "      <th>ring-type</th>\n",
       "      <th>spore-print-color</th>\n",
       "      <th>population</th>\n",
       "      <th>habitat</th>\n",
       "      <th>class</th>\n",
       "    </tr>\n",
       "  </thead>\n",
       "  <tbody>\n",
       "    <tr>\n",
       "      <th>0</th>\n",
       "      <td>f</td>\n",
       "      <td>y</td>\n",
       "      <td>y</td>\n",
       "      <td>f</td>\n",
       "      <td>f</td>\n",
       "      <td>f</td>\n",
       "      <td>c</td>\n",
       "      <td>b</td>\n",
       "      <td>g</td>\n",
       "      <td>e</td>\n",
       "      <td>...</td>\n",
       "      <td>p</td>\n",
       "      <td>b</td>\n",
       "      <td>p</td>\n",
       "      <td>w</td>\n",
       "      <td>o</td>\n",
       "      <td>l</td>\n",
       "      <td>h</td>\n",
       "      <td>y</td>\n",
       "      <td>g</td>\n",
       "      <td>p</td>\n",
       "    </tr>\n",
       "    <tr>\n",
       "      <th>1</th>\n",
       "      <td>x</td>\n",
       "      <td>s</td>\n",
       "      <td>p</td>\n",
       "      <td>t</td>\n",
       "      <td>n</td>\n",
       "      <td>f</td>\n",
       "      <td>c</td>\n",
       "      <td>b</td>\n",
       "      <td>e</td>\n",
       "      <td>e</td>\n",
       "      <td>...</td>\n",
       "      <td>e</td>\n",
       "      <td>w</td>\n",
       "      <td>p</td>\n",
       "      <td>w</td>\n",
       "      <td>t</td>\n",
       "      <td>e</td>\n",
       "      <td>w</td>\n",
       "      <td>c</td>\n",
       "      <td>w</td>\n",
       "      <td>e</td>\n",
       "    </tr>\n",
       "    <tr>\n",
       "      <th>2</th>\n",
       "      <td>b</td>\n",
       "      <td>s</td>\n",
       "      <td>g</td>\n",
       "      <td>f</td>\n",
       "      <td>n</td>\n",
       "      <td>f</td>\n",
       "      <td>w</td>\n",
       "      <td>b</td>\n",
       "      <td>w</td>\n",
       "      <td>e</td>\n",
       "      <td>...</td>\n",
       "      <td>w</td>\n",
       "      <td>w</td>\n",
       "      <td>p</td>\n",
       "      <td>w</td>\n",
       "      <td>t</td>\n",
       "      <td>p</td>\n",
       "      <td>w</td>\n",
       "      <td>s</td>\n",
       "      <td>g</td>\n",
       "      <td>e</td>\n",
       "    </tr>\n",
       "    <tr>\n",
       "      <th>3</th>\n",
       "      <td>f</td>\n",
       "      <td>s</td>\n",
       "      <td>n</td>\n",
       "      <td>f</td>\n",
       "      <td>s</td>\n",
       "      <td>f</td>\n",
       "      <td>c</td>\n",
       "      <td>n</td>\n",
       "      <td>b</td>\n",
       "      <td>t</td>\n",
       "      <td>...</td>\n",
       "      <td>p</td>\n",
       "      <td>w</td>\n",
       "      <td>p</td>\n",
       "      <td>w</td>\n",
       "      <td>o</td>\n",
       "      <td>e</td>\n",
       "      <td>w</td>\n",
       "      <td>v</td>\n",
       "      <td>d</td>\n",
       "      <td>p</td>\n",
       "    </tr>\n",
       "    <tr>\n",
       "      <th>4</th>\n",
       "      <td>k</td>\n",
       "      <td>y</td>\n",
       "      <td>n</td>\n",
       "      <td>f</td>\n",
       "      <td>f</td>\n",
       "      <td>f</td>\n",
       "      <td>c</td>\n",
       "      <td>n</td>\n",
       "      <td>b</td>\n",
       "      <td>t</td>\n",
       "      <td>...</td>\n",
       "      <td>p</td>\n",
       "      <td>p</td>\n",
       "      <td>p</td>\n",
       "      <td>w</td>\n",
       "      <td>o</td>\n",
       "      <td>e</td>\n",
       "      <td>w</td>\n",
       "      <td>v</td>\n",
       "      <td>p</td>\n",
       "      <td>p</td>\n",
       "    </tr>\n",
       "  </tbody>\n",
       "</table>\n",
       "<p>5 rows × 23 columns</p>\n",
       "</div>"
      ],
      "text/plain": [
       "  cap-shape cap-surface cap-color bruises odor gill-attachment gill-spacing  \\\n",
       "0         f           y         y       f    f               f            c   \n",
       "1         x           s         p       t    n               f            c   \n",
       "2         b           s         g       f    n               f            w   \n",
       "3         f           s         n       f    s               f            c   \n",
       "4         k           y         n       f    f               f            c   \n",
       "\n",
       "  gill-size gill-color stalk-shape  ... stalk-color-above-ring  \\\n",
       "0         b          g           e  ...                      p   \n",
       "1         b          e           e  ...                      e   \n",
       "2         b          w           e  ...                      w   \n",
       "3         n          b           t  ...                      p   \n",
       "4         n          b           t  ...                      p   \n",
       "\n",
       "  stalk-color-below-ring veil-type veil-color ring-number ring-type  \\\n",
       "0                      b         p          w           o         l   \n",
       "1                      w         p          w           t         e   \n",
       "2                      w         p          w           t         p   \n",
       "3                      w         p          w           o         e   \n",
       "4                      p         p          w           o         e   \n",
       "\n",
       "  spore-print-color population habitat class  \n",
       "0                 h          y       g     p  \n",
       "1                 w          c       w     e  \n",
       "2                 w          s       g     e  \n",
       "3                 w          v       d     p  \n",
       "4                 w          v       p     p  \n",
       "\n",
       "[5 rows x 23 columns]"
      ]
     },
     "execution_count": 25,
     "metadata": {},
     "output_type": "execute_result"
    }
   ],
   "source": [
    "train_data.head()\n",
    "#test_data.head()"
   ]
  },
  {
   "cell_type": "code",
   "execution_count": 26,
   "id": "a5c1fcac-ebfa-4c7f-8083-7985b1035611",
   "metadata": {},
   "outputs": [
    {
     "data": {
      "text/plain": [
       "((6499, 23), (6499, 23))"
      ]
     },
     "execution_count": 26,
     "metadata": {},
     "output_type": "execute_result"
    }
   ],
   "source": [
    "train_data.shape, test_data.shape"
   ]
  },
  {
   "cell_type": "code",
   "execution_count": 27,
   "id": "35f72b90-2d44-4ff1-8a28-e4b5a9c0ba99",
   "metadata": {},
   "outputs": [
    {
     "name": "stdout",
     "output_type": "stream",
     "text": [
      "<class 'pandas.core.frame.DataFrame'>\n",
      "RangeIndex: 6499 entries, 0 to 6498\n",
      "Data columns (total 23 columns):\n",
      " #   Column                    Non-Null Count  Dtype \n",
      "---  ------                    --------------  ----- \n",
      " 0   cap-shape                 6499 non-null   object\n",
      " 1   cap-surface               6499 non-null   object\n",
      " 2   cap-color                 6499 non-null   object\n",
      " 3   bruises                   6499 non-null   object\n",
      " 4   odor                      6499 non-null   object\n",
      " 5   gill-attachment           6499 non-null   object\n",
      " 6   gill-spacing              6499 non-null   object\n",
      " 7   gill-size                 6499 non-null   object\n",
      " 8   gill-color                6499 non-null   object\n",
      " 9   stalk-shape               6499 non-null   object\n",
      " 10  stalk-root                6499 non-null   object\n",
      " 11  stalk-surface-above-ring  6499 non-null   object\n",
      " 12  stalk-surface-below-ring  6499 non-null   object\n",
      " 13  stalk-color-above-ring    6499 non-null   object\n",
      " 14  stalk-color-below-ring    6499 non-null   object\n",
      " 15  veil-type                 6499 non-null   object\n",
      " 16  veil-color                6499 non-null   object\n",
      " 17  ring-number               6499 non-null   object\n",
      " 18  ring-type                 6499 non-null   object\n",
      " 19  spore-print-color         6499 non-null   object\n",
      " 20  population                6499 non-null   object\n",
      " 21  habitat                   6499 non-null   object\n",
      " 22  class                     6499 non-null   object\n",
      "dtypes: object(23)\n",
      "memory usage: 1.1+ MB\n"
     ]
    }
   ],
   "source": [
    "train_data.info()\n",
    "# print('-'*80)\n",
    "# test_data.info()"
   ]
  },
  {
   "cell_type": "code",
   "execution_count": 28,
   "id": "6fece44b-3f9a-40c4-92e5-ba1ba2b2a235",
   "metadata": {},
   "outputs": [
    {
     "data": {
      "text/html": [
       "<div>\n",
       "<style scoped>\n",
       "    .dataframe tbody tr th:only-of-type {\n",
       "        vertical-align: middle;\n",
       "    }\n",
       "\n",
       "    .dataframe tbody tr th {\n",
       "        vertical-align: top;\n",
       "    }\n",
       "\n",
       "    .dataframe thead th {\n",
       "        text-align: right;\n",
       "    }\n",
       "</style>\n",
       "<table border=\"1\" class=\"dataframe\">\n",
       "  <thead>\n",
       "    <tr style=\"text-align: right;\">\n",
       "      <th></th>\n",
       "      <th>cap-shape</th>\n",
       "      <th>cap-surface</th>\n",
       "      <th>cap-color</th>\n",
       "      <th>bruises</th>\n",
       "      <th>odor</th>\n",
       "      <th>gill-attachment</th>\n",
       "      <th>gill-spacing</th>\n",
       "      <th>gill-size</th>\n",
       "      <th>gill-color</th>\n",
       "      <th>stalk-shape</th>\n",
       "      <th>...</th>\n",
       "      <th>stalk-color-above-ring</th>\n",
       "      <th>stalk-color-below-ring</th>\n",
       "      <th>veil-type</th>\n",
       "      <th>veil-color</th>\n",
       "      <th>ring-number</th>\n",
       "      <th>ring-type</th>\n",
       "      <th>spore-print-color</th>\n",
       "      <th>population</th>\n",
       "      <th>habitat</th>\n",
       "      <th>class</th>\n",
       "    </tr>\n",
       "  </thead>\n",
       "  <tbody>\n",
       "    <tr>\n",
       "      <th>count</th>\n",
       "      <td>6499</td>\n",
       "      <td>6499</td>\n",
       "      <td>6499</td>\n",
       "      <td>6499</td>\n",
       "      <td>6499</td>\n",
       "      <td>6499</td>\n",
       "      <td>6499</td>\n",
       "      <td>6499</td>\n",
       "      <td>6499</td>\n",
       "      <td>6499</td>\n",
       "      <td>...</td>\n",
       "      <td>6499</td>\n",
       "      <td>6499</td>\n",
       "      <td>6499</td>\n",
       "      <td>6499</td>\n",
       "      <td>6499</td>\n",
       "      <td>6499</td>\n",
       "      <td>6499</td>\n",
       "      <td>6499</td>\n",
       "      <td>6499</td>\n",
       "      <td>6499</td>\n",
       "    </tr>\n",
       "    <tr>\n",
       "      <th>unique</th>\n",
       "      <td>6</td>\n",
       "      <td>4</td>\n",
       "      <td>10</td>\n",
       "      <td>2</td>\n",
       "      <td>9</td>\n",
       "      <td>2</td>\n",
       "      <td>2</td>\n",
       "      <td>2</td>\n",
       "      <td>12</td>\n",
       "      <td>2</td>\n",
       "      <td>...</td>\n",
       "      <td>9</td>\n",
       "      <td>9</td>\n",
       "      <td>1</td>\n",
       "      <td>4</td>\n",
       "      <td>3</td>\n",
       "      <td>5</td>\n",
       "      <td>9</td>\n",
       "      <td>6</td>\n",
       "      <td>7</td>\n",
       "      <td>2</td>\n",
       "    </tr>\n",
       "    <tr>\n",
       "      <th>top</th>\n",
       "      <td>x</td>\n",
       "      <td>y</td>\n",
       "      <td>n</td>\n",
       "      <td>f</td>\n",
       "      <td>n</td>\n",
       "      <td>f</td>\n",
       "      <td>c</td>\n",
       "      <td>b</td>\n",
       "      <td>b</td>\n",
       "      <td>t</td>\n",
       "      <td>...</td>\n",
       "      <td>w</td>\n",
       "      <td>w</td>\n",
       "      <td>p</td>\n",
       "      <td>w</td>\n",
       "      <td>o</td>\n",
       "      <td>p</td>\n",
       "      <td>w</td>\n",
       "      <td>v</td>\n",
       "      <td>d</td>\n",
       "      <td>e</td>\n",
       "    </tr>\n",
       "    <tr>\n",
       "      <th>freq</th>\n",
       "      <td>2937</td>\n",
       "      <td>2570</td>\n",
       "      <td>1812</td>\n",
       "      <td>3795</td>\n",
       "      <td>2826</td>\n",
       "      <td>6337</td>\n",
       "      <td>5456</td>\n",
       "      <td>4518</td>\n",
       "      <td>1367</td>\n",
       "      <td>3678</td>\n",
       "      <td>...</td>\n",
       "      <td>3554</td>\n",
       "      <td>3524</td>\n",
       "      <td>6499</td>\n",
       "      <td>6345</td>\n",
       "      <td>5985</td>\n",
       "      <td>3173</td>\n",
       "      <td>1894</td>\n",
       "      <td>3218</td>\n",
       "      <td>2530</td>\n",
       "      <td>3366</td>\n",
       "    </tr>\n",
       "  </tbody>\n",
       "</table>\n",
       "<p>4 rows × 23 columns</p>\n",
       "</div>"
      ],
      "text/plain": [
       "       cap-shape cap-surface cap-color bruises  odor gill-attachment  \\\n",
       "count       6499        6499      6499    6499  6499            6499   \n",
       "unique         6           4        10       2     9               2   \n",
       "top            x           y         n       f     n               f   \n",
       "freq        2937        2570      1812    3795  2826            6337   \n",
       "\n",
       "       gill-spacing gill-size gill-color stalk-shape  ...  \\\n",
       "count          6499      6499       6499        6499  ...   \n",
       "unique            2         2         12           2  ...   \n",
       "top               c         b          b           t  ...   \n",
       "freq           5456      4518       1367        3678  ...   \n",
       "\n",
       "       stalk-color-above-ring stalk-color-below-ring veil-type veil-color  \\\n",
       "count                    6499                   6499      6499       6499   \n",
       "unique                      9                      9         1          4   \n",
       "top                         w                      w         p          w   \n",
       "freq                     3554                   3524      6499       6345   \n",
       "\n",
       "       ring-number ring-type spore-print-color population habitat class  \n",
       "count         6499      6499              6499       6499    6499  6499  \n",
       "unique           3         5                 9          6       7     2  \n",
       "top              o         p                 w          v       d     e  \n",
       "freq          5985      3173              1894       3218    2530  3366  \n",
       "\n",
       "[4 rows x 23 columns]"
      ]
     },
     "execution_count": 28,
     "metadata": {},
     "output_type": "execute_result"
    }
   ],
   "source": [
    "train_data.describe()"
   ]
  },
  {
   "cell_type": "code",
   "execution_count": 29,
   "id": "cc6812ed-7d54-4f84-b742-fbd100b54db5",
   "metadata": {},
   "outputs": [
    {
     "name": "stdout",
     "output_type": "stream",
     "text": [
      "cap-shape: 6 valores únicos\n",
      "cap-surface: 4 valores únicos\n",
      "cap-color: 10 valores únicos\n",
      "bruises: 2 valores únicos\n",
      "odor: 9 valores únicos\n",
      "gill-attachment: 2 valores únicos\n",
      "gill-spacing: 2 valores únicos\n",
      "gill-size: 2 valores únicos\n",
      "gill-color: 12 valores únicos\n",
      "stalk-shape: 2 valores únicos\n",
      "stalk-root: 5 valores únicos\n",
      "stalk-surface-above-ring: 4 valores únicos\n",
      "stalk-surface-below-ring: 4 valores únicos\n",
      "stalk-color-above-ring: 9 valores únicos\n",
      "stalk-color-below-ring: 9 valores únicos\n",
      "veil-type: 1 valores únicos\n",
      "veil-color: 4 valores únicos\n",
      "ring-number: 3 valores únicos\n",
      "ring-type: 5 valores únicos\n",
      "spore-print-color: 9 valores únicos\n",
      "population: 6 valores únicos\n",
      "habitat: 7 valores únicos\n",
      "class: 2 valores únicos\n"
     ]
    }
   ],
   "source": [
    "for col in train_data.columns:\n",
    "    print(f\"{col}: {train_data[col].nunique()} valores únicos\")"
   ]
  },
  {
   "cell_type": "markdown",
   "id": "d7e84f33-bf5a-4938-bf60-4120cd9414ee",
   "metadata": {},
   "source": [
    "# Exploratory Data Analysis (EDA)"
   ]
  },
  {
   "cell_type": "code",
   "execution_count": 30,
   "id": "774431b2-232e-4b75-b48f-73c055d18ea7",
   "metadata": {},
   "outputs": [
    {
     "name": "stdout",
     "output_type": "stream",
     "text": [
      "\n",
      "Distribución de las clases en los datos de entrenamiento:\n",
      "class\n",
      "e    3366\n",
      "p    3133\n",
      "Name: count, dtype: int64\n"
     ]
    },
    {
     "data": {
      "image/png": "[encoded data removed]",
      "text/plain": [
       "<Figure size 600x400 with 1 Axes>"
      ]
     },
     "metadata": {},
     "output_type": "display_data"
    }
   ],
   "source": [
    "# Visualizar distribuciones de la variable objetivo (class)\n",
    "print(\"\\nDistribución de las clases en los datos de entrenamiento:\")\n",
    "class_counts = train_data['class'].value_counts()\n",
    "print(class_counts)\n",
    "plt.figure(figsize=(6, 4))\n",
    "sns.barplot(x=class_counts.index, y=class_counts.values, hue=class_counts.index, palette='pastel', dodge=False)\n",
    "plt.title(\"Distribución de Clases (Edible vs Poisonous)\")\n",
    "plt.xlabel(\"Clase\")\n",
    "plt.ylabel(\"Cantidad\")\n",
    "plt.legend([], [], frameon=False)  # Eliminamos la leyenda para que sea más limpio\n",
    "plt.show()"
   ]
  },
  {
   "cell_type": "code",
   "execution_count": null,
   "id": "9689433e-0a67-4bf4-9552-270e4a6c990d",
   "metadata": {},
   "outputs": [],
   "source": [
    "# Preprocesamiento\n",
    "print(\"\\nPreprocesando los datos...\")\n",
    "train_data = train_data.drop(columns=['Unnamed: 0'])\n",
    "test_data = test_data.drop(columns=['Unnamed: 0'])\n",
    "print(\"Eliminada columna 'Unnamed: 0'.\")\n",
    "\n",
    "X = train_data.drop(columns=['class'])\n",
    "y = train_data['class']\n",
    "\n",
    "label_encoder = LabelEncoder()\n",
    "y_encoded = label_encoder.fit_transform(y)  # E -> 0, P -> 1\n",
    "print(f\"\\nEtiquetas transformadas: {list(label_encoder.classes_)} -> {list(range(len(label_encoder.classes_)))}\")\n",
    "\n",
    "X_encoded = pd.get_dummies(X, drop_first=True)\n",
    "test_data_encoded = pd.get_dummies(test_data, drop_first=True)\n"
   ]
  },
  {
   "cell_type": "code",
   "execution_count": 20,
   "id": "3772c671-5cbb-4fad-9f63-0d41291f9258",
   "metadata": {},
   "outputs": [
    {
     "name": "stdout",
     "output_type": "stream",
     "text": [
      "\n",
      "Columnas después de codificación de variables categóricas: ['cap-shape_c', 'cap-shape_f', 'cap-shape_k', 'cap-shape_s', 'cap-shape_x', 'cap-surface_g', 'cap-surface_s', 'cap-surface_y', 'cap-color_c', 'cap-color_e', 'cap-color_g', 'cap-color_n', 'cap-color_p', 'cap-color_r', 'cap-color_u', 'cap-color_w', 'cap-color_y', 'bruises_t', 'odor_c', 'odor_f', 'odor_l', 'odor_m', 'odor_n', 'odor_p', 'odor_s', 'odor_y', 'gill-attachment_f', 'gill-spacing_w', 'gill-size_n', 'gill-color_e', 'gill-color_g', 'gill-color_h', 'gill-color_k', 'gill-color_n', 'gill-color_o', 'gill-color_p', 'gill-color_r', 'gill-color_u', 'gill-color_w', 'gill-color_y', 'stalk-shape_t', 'stalk-root_b', 'stalk-root_c', 'stalk-root_e', 'stalk-root_r', 'stalk-surface-above-ring_k', 'stalk-surface-above-ring_s', 'stalk-surface-above-ring_y', 'stalk-surface-below-ring_k', 'stalk-surface-below-ring_s', 'stalk-surface-below-ring_y', 'stalk-color-above-ring_c', 'stalk-color-above-ring_e', 'stalk-color-above-ring_g', 'stalk-color-above-ring_n', 'stalk-color-above-ring_o', 'stalk-color-above-ring_p', 'stalk-color-above-ring_w', 'stalk-color-above-ring_y', 'stalk-color-below-ring_c', 'stalk-color-below-ring_e', 'stalk-color-below-ring_g', 'stalk-color-below-ring_n', 'stalk-color-below-ring_o', 'stalk-color-below-ring_p', 'stalk-color-below-ring_w', 'stalk-color-below-ring_y', 'veil-color_o', 'veil-color_w', 'veil-color_y', 'ring-number_o', 'ring-number_t', 'ring-type_f', 'ring-type_l', 'ring-type_n', 'ring-type_p', 'spore-print-color_h', 'spore-print-color_k', 'spore-print-color_n', 'spore-print-color_o', 'spore-print-color_r', 'spore-print-color_u', 'spore-print-color_w', 'spore-print-color_y', 'population_c', 'population_n', 'population_s', 'population_v', 'population_y', 'habitat_g', 'habitat_l', 'habitat_m', 'habitat_p', 'habitat_u', 'habitat_w']\n",
      "Tamaño del conjunto de entrenamiento: (5199, 95)\n",
      "Tamaño del conjunto de validación: (1300, 95)\n"
     ]
    }
   ],
   "source": [
    "# Asegurar que las columnas coincidan\n",
    "test_data_encoded = test_data_encoded.reindex(columns=X_encoded.columns, fill_value=0)\n",
    "print(f\"\\nColumnas después de codificación de variables categóricas: {X_encoded.columns.tolist()}\")\n",
    "\n",
    "X_train, X_val, y_train, y_val = train_test_split(X_encoded, y_encoded, test_size=0.2, random_state=42, stratify=y_encoded)\n",
    "print(f\"Tamaño del conjunto de entrenamiento: {X_train.shape}\")\n",
    "print(f\"Tamaño del conjunto de validación: {X_val.shape}\")"
   ]
  },
  {
   "cell_type": "markdown",
   "id": "eb176bfc-da7d-473e-9694-567ccb0e2d4d",
   "metadata": {},
   "source": [
    "# Selection and model training"
   ]
  },
  {
   "cell_type": "code",
   "execution_count": 31,
   "id": "adba67ad-4707-41b0-be02-3c3b2ac30039",
   "metadata": {},
   "outputs": [
    {
     "name": "stdout",
     "output_type": "stream",
     "text": [
      "\n",
      "Entrenando modelo k-NN...\n",
      "k-NN - Accuracy: 1.0, F1-Score: 1.0\n",
      "\n",
      "Entrenando modelo Árbol de Decisión...\n",
      "Árbol de Decisión - Accuracy: 1.0, F1-Score: 1.0\n",
      "\n",
      "Entrenando modelo SVM...\n",
      "SVM - Accuracy: 1.0, F1-Score: 1.0\n"
     ]
    }
   ],
   "source": [
    "# Modelos y evaluación\n",
    "metrics = []\n",
    "\n",
    "# Modelo 1: k-NN\n",
    "print(\"\\nEntrenando modelo k-NN...\")\n",
    "knn = KNeighborsClassifier(n_neighbors=5)\n",
    "knn.fit(X_train, y_train)\n",
    "y_pred_knn = knn.predict(X_val)\n",
    "accuracy_knn = accuracy_score(y_val, y_pred_knn)\n",
    "f1_knn = f1_score(y_val, y_pred_knn, average='weighted')\n",
    "metrics.append(('k-NN', accuracy_knn, f1_knn))\n",
    "print(f\"k-NN - Accuracy: {accuracy_knn}, F1-Score: {f1_knn}\")\n",
    "\n",
    "# Modelo 2: Árbol de Decisión\n",
    "print(\"\\nEntrenando modelo Árbol de Decisión...\")\n",
    "decision_tree = DecisionTreeClassifier(random_state=42)\n",
    "decision_tree.fit(X_train, y_train)\n",
    "y_pred_tree = decision_tree.predict(X_val)\n",
    "accuracy_tree = accuracy_score(y_val, y_pred_tree)\n",
    "f1_tree = f1_score(y_val, y_pred_tree, average='weighted')\n",
    "metrics.append(('Decision Tree', accuracy_tree, f1_tree))\n",
    "print(f\"Árbol de Decisión - Accuracy: {accuracy_tree}, F1-Score: {f1_tree}\")\n",
    "\n",
    "# Modelo 3: SVM\n",
    "print(\"\\nEntrenando modelo SVM...\")\n",
    "svm = SVC(kernel='linear', random_state=42)\n",
    "svm.fit(X_train, y_train)\n",
    "y_pred_svm = svm.predict(X_val)\n",
    "accuracy_svm = accuracy_score(y_val, y_pred_svm)\n",
    "f1_svm = f1_score(y_val, y_pred_svm, average='weighted')\n",
    "metrics.append(('SVM', accuracy_svm, f1_svm))\n",
    "print(f\"SVM - Accuracy: {accuracy_svm}, F1-Score: {f1_svm}\")"
   ]
  },
  {
   "cell_type": "code",
   "execution_count": 35,
   "id": "3aafb813-bb59-4351-a9af-fc881f4787af",
   "metadata": {},
   "outputs": [
    {
     "data": {
      "image/png": "[encoded data removed]",
      "text/plain": [
       "<Figure size 1000x600 with 1 Axes>"
      ]
     },
     "metadata": {},
     "output_type": "display_data"
    }
   ],
   "source": [
    "# Visualización de Importancia de Características (Árbol de Decisión)\n",
    "feature_importances = pd.DataFrame({\n",
    "    'Feature': X_encoded.columns,\n",
    "    'Importance': decision_tree.feature_importances_\n",
    "}).sort_values(by='Importance', ascending=False)\n",
    "\n",
    "plt.figure(figsize=(10, 6))\n",
    "sns.barplot(x=\"Importance\", y=\"Feature\", data=feature_importances.head(10), color=\"blue\")  # Color sólido en lugar de palette\n",
    "plt.title(\"Importancia de las Características (Árbol de Decisión)\")\n",
    "plt.xlabel(\"Importancia\")\n",
    "plt.ylabel(\"Característica\")\n",
    "plt.show()"
   ]
  },
  {
   "cell_type": "code",
   "execution_count": 22,
   "id": "80b045d5-e514-49e1-a116-50daff0a4f79",
   "metadata": {},
   "outputs": [
    {
     "name": "stdout",
     "output_type": "stream",
     "text": [
      "\n",
      "Generando visualización de métricas...\n"
     ]
    },
    {
     "data": {
      "text/plain": [
       "<Figure size 1200x600 with 0 Axes>"
      ]
     },
     "execution_count": 22,
     "metadata": {},
     "output_type": "execute_result"
    },
    {
     "data": {
      "text/plain": [
       "<Figure size 1200x600 with 0 Axes>"
      ]
     },
     "metadata": {},
     "output_type": "display_data"
    }
   ],
   "source": [
    "# Visualización de Métricas\n",
    "print(\"\\nGenerando visualización de métricas...\")\n",
    "model_names = [m[0] for m in metrics]\n",
    "accuracies = [m[1] for m in metrics]\n",
    "f1_scores = [m[2] for m in metrics]\n",
    "\n",
    "plt.figure(figsize=(12, 6))"
   ]
  },
  {
   "cell_type": "code",
   "execution_count": 23,
   "id": "b9aecaf4-0ba6-4af6-b3d8-2e48e4e62092",
   "metadata": {},
   "outputs": [
    {
     "data": {
      "image/png": "[encoded data removed]",
      "text/plain": [
       "<Figure size 640x480 with 2 Axes>"
      ]
     },
     "metadata": {},
     "output_type": "display_data"
    }
   ],
   "source": [
    "# Accuracy\n",
    "plt.subplot(1, 2, 1)\n",
    "plt.bar(model_names, accuracies, color='skyblue', alpha=0.7)\n",
    "plt.title(\"Comparación de Accuracy entre Modelos\")\n",
    "plt.ylabel(\"Accuracy\")\n",
    "plt.ylim(0, 1)\n",
    "plt.xticks(rotation=45)\n",
    "\n",
    "# F1-Score\n",
    "plt.subplot(1, 2, 2)\n",
    "plt.bar(model_names, f1_scores, color='salmon', alpha=0.7)\n",
    "plt.title(\"Comparación de F1-Score entre Modelos\")\n",
    "plt.ylabel(\"F1-Score\")\n",
    "plt.ylim(0, 1)\n",
    "plt.xticks(rotation=45)\n",
    "\n",
    "plt.tight_layout()\n",
    "plt.show()"
   ]
  },
  {
   "cell_type": "markdown",
   "id": "555acbbd-4619-4215-bc27-7f628fa15b69",
   "metadata": {
    "jp-MarkdownHeadingCollapsed": true
   },
   "source": [
    "# Prediction and evaluation"
   ]
  },
  {
   "cell_type": "code",
   "execution_count": 24,
   "id": "262b2ffe-bad1-403c-8e45-eb435585953d",
   "metadata": {},
   "outputs": [
    {
     "name": "stdout",
     "output_type": "stream",
     "text": [
      "\n",
      "Generando predicciones finales con Árbol de Decisión...\n"
     ]
    }
   ],
   "source": [
    "# Elegimos el modelo Árbol de Decisión por simplicidad (todos tienen rendimiento perfecto)\n",
    "print(\"\\nGenerando predicciones finales con Árbol de Decisión...\")\n",
    "test_predictions = decision_tree.predict(test_data_encoded)\n",
    "test_predictions_labels = label_encoder.inverse_transform(test_predictions)\n"
   ]
  },
  {
   "cell_type": "markdown",
   "id": "fe9ebf28-f0cd-4469-87d3-34a743c33ebc",
   "metadata": {
    "jp-MarkdownHeadingCollapsed": true
   },
   "source": [
    "# Save a csv"
   ]
  },
  {
   "cell_type": "code",
   "execution_count": null,
   "id": "979c991c-5ef9-4707-9ab7-592abb1d7e5a",
   "metadata": {},
   "outputs": [],
   "source": [
    "# Crear el archivo de submission\n",
    "submission = pd.DataFrame({\n",
    "    'ID': test_data.index + 1,  # Ajustar ID para que empiece desde 1\n",
    "    'Edible': test_predictions_labels\n",
    "})\n",
    "\n",
    "submission_file_path = 'final.csv'\n",
    "submission.to_csv(submission_file_path, index=False)\n",
    "print(f\"Archivo '{submission_file_path}' generado exitosamente.\")"
   ]
  }
 ],
 "metadata": {
  "kernelspec": {
   "display_name": "Python 3 (ipykernel)",
   "language": "python",
   "name": "python3"
  },
  "language_info": {
   "codemirror_mode": {
    "name": "ipython",
    "version": 3
   },
   "file_extension": ".py",
   "mimetype": "text/x-python",
   "name": "python",
   "nbconvert_exporter": "python",
   "pygments_lexer": "ipython3",
   "version": "3.12.7"
  }
 },
 "nbformat": 4,
 "nbformat_minor": 5
}
